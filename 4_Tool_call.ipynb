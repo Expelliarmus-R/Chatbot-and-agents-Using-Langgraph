{
 "cells": [
  {
   "cell_type": "code",
   "id": "initial_id",
   "metadata": {
    "collapsed": true,
    "ExecuteTime": {
     "end_time": "2025-08-21T05:06:59.692952Z",
     "start_time": "2025-08-21T05:06:59.679174Z"
    }
   },
   "source": [
    "from langchain.chat_models import init_chat_model\n",
    "from typing import Annotated\n",
    "from typing_extensions import TypedDict\n",
    "from langgraph.graph import StateGraph, START, END\n",
    "from langgraph.graph.message import add_messages\n",
    "from langchain_core.tools import tool\n",
    "from langgraph.prebuilt import ToolNode, tools_condition"
   ],
   "outputs": [],
   "execution_count": 3
  },
  {
   "metadata": {
    "ExecuteTime": {
     "end_time": "2025-08-21T05:07:45.028597Z",
     "start_time": "2025-08-21T05:07:44.885528Z"
    }
   },
   "cell_type": "code",
   "source": [
    "\n",
    "from dotenv import load_dotenv\n",
    "load_dotenv()"
   ],
   "id": "2ae419a175ae2b8c",
   "outputs": [
    {
     "data": {
      "text/plain": [
       "True"
      ]
     },
     "execution_count": 4,
     "metadata": {},
     "output_type": "execute_result"
    }
   ],
   "execution_count": 4
  },
  {
   "metadata": {
    "ExecuteTime": {
     "end_time": "2025-08-21T05:07:46.854775Z",
     "start_time": "2025-08-21T05:07:46.846004Z"
    }
   },
   "cell_type": "code",
   "source": [
    "class State(TypedDict):\n",
    "    # Messages have the type \"list\". The `add_messages` function\n",
    "    # in the annotation defines how this state key should be updated\n",
    "    # (in this case, it appends messages to the list, rather than overwriting them)\n",
    "    messages: Annotated[list, add_messages]\n"
   ],
   "id": "e52dd7640d3c24f6",
   "outputs": [],
   "execution_count": 5
  },
  {
   "metadata": {
    "ExecuteTime": {
     "end_time": "2025-08-21T05:09:30.519842Z",
     "start_time": "2025-08-21T05:09:25.518350Z"
    }
   },
   "cell_type": "code",
   "source": [
    "@tool\n",
    "def get_stock_price(symbol: str) -> float:\n",
    "    '''Return the current price of a stock given the stock symbol\n",
    "    :param symbol: stock symbol\n",
    "    :return: current price of the stock\n",
    "    '''\n",
    "    return {\n",
    "        \"MSFT\": 200.3,\n",
    "        \"AAPL\": 100.4,\n",
    "        \"AMZN\": 150.0,\n",
    "        \"RIL\": 87.6\n",
    "    }.get(symbol, 0.0)\n",
    "\n",
    "tools = [get_stock_price]\n",
    "\n",
    "llm = init_chat_model(\"google_genai:gemini-2.0-flash\")\n",
    "llm_with_tools = llm.bind_tools(tools)"
   ],
   "id": "50e054c1b17efe90",
   "outputs": [],
   "execution_count": 6
  },
  {
   "metadata": {
    "ExecuteTime": {
     "end_time": "2025-08-21T05:09:48.672936Z",
     "start_time": "2025-08-21T05:09:47.960693Z"
    }
   },
   "cell_type": "code",
   "source": [
    "def chatbot(state: State):\n",
    "    return {\"messages\": [llm_with_tools.invoke(state[\"messages\"])]}\n",
    "\n",
    "builder = StateGraph(State)\n",
    "\n",
    "builder.add_node(chatbot)\n",
    "builder.add_node(\"tools\", ToolNode(tools))\n",
    "\n",
    "builder.add_edge(START, \"chatbot\")\n",
    "builder.add_conditional_edges(\"chatbot\", tools_condition)\n",
    "\n",
    "graph = builder.compile()\n",
    "\n",
    "from IPython.display import Image, display\n",
    "\n",
    "display(Image(graph.get_graph().draw_mermaid_png()))"
   ],
   "id": "a88fe2c65e65cd76",
   "outputs": [
    {
     "data": {
      "image/png": "[encoded data removed]",
      "text/plain": [
       "<IPython.core.display.Image object>"
      ]
     },
     "metadata": {},
     "output_type": "display_data"
    }
   ],
   "execution_count": 7
  },
  {
   "metadata": {
    "ExecuteTime": {
     "end_time": "2025-08-21T05:10:06.128629Z",
     "start_time": "2025-08-21T05:10:04.898524Z"
    }
   },
   "cell_type": "code",
   "source": [
    "state = graph.invoke({\"messages\": [{\"role\": \"user\", \"content\": \"What is the price of AAPL stock right now?\"}]})\n",
    "print(state[\"messages\"][-1].content)"
   ],
   "id": "d367912e8fa316da",
   "outputs": [
    {
     "name": "stdout",
     "output_type": "stream",
     "text": [
      "100.4\n"
     ]
    }
   ],
   "execution_count": 8
  },
  {
   "metadata": {
    "ExecuteTime": {
     "end_time": "2025-08-21T05:10:24.640190Z",
     "start_time": "2025-08-21T05:10:23.908786Z"
    }
   },
   "cell_type": "code",
   "source": [
    "state = graph.invoke({\"messages\": [{\"role\": \"user\", \"content\": \"Who invented theory of relativity? print person name only\"}]})\n",
    "print(state[\"messages\"][-1].content)"
   ],
   "id": "5a7fdd706c2df667",
   "outputs": [
    {
     "name": "stdout",
     "output_type": "stream",
     "text": [
      "Albert Einstein\n"
     ]
    }
   ],
   "execution_count": 9
  },
  {
   "metadata": {
    "ExecuteTime": {
     "end_time": "2025-08-21T05:10:38.463621Z",
     "start_time": "2025-08-21T05:10:37.371875Z"
    }
   },
   "cell_type": "code",
   "source": [
    "\n",
    "msg = \"I want to buy 20 AMZN stocks using current price. Then 15 MSFT. What will be the total cost?\"\n",
    "\n",
    "state = graph.invoke({\"messages\": [{\"role\": \"user\", \"content\": msg}]})\n",
    "print(state[\"messages\"][-1].content)"
   ],
   "id": "e9226c2427b30e32",
   "outputs": [
    {
     "name": "stdout",
     "output_type": "stream",
     "text": [
      "200.3\n"
     ]
    }
   ],
   "execution_count": 10
  },
  {
   "metadata": {},
   "cell_type": "markdown",
   "source": "TOOL CALL AGENT",
   "id": "ccc7a92de9cab4a5"
  },
  {
   "metadata": {
    "ExecuteTime": {
     "end_time": "2025-08-21T08:43:46.470353Z",
     "start_time": "2025-08-21T08:43:45.731173Z"
    }
   },
   "cell_type": "code",
   "source": [
    "\n",
    "def chatbot(state: State):\n",
    "    return {\"messages\": [llm_with_tools.invoke(state[\"messages\"])]}\n",
    "\n",
    "builder = StateGraph(State)\n",
    "\n",
    "builder.add_node(chatbot)\n",
    "builder.add_node(\"tools\", ToolNode(tools))\n",
    "\n",
    "builder.add_edge(START, \"chatbot\")\n",
    "builder.add_conditional_edges(\"chatbot\", tools_condition)\n",
    "builder.add_edge(\"tools\", \"chatbot\")\n",
    "graph = builder.compile()\n",
    "\n",
    "from IPython.display import Image, display\n",
    "\n",
    "display(Image(graph.get_graph().draw_mermaid_png()))"
   ],
   "id": "d066f5773bc24ae0",
   "outputs": [
    {
     "data": {
      "image/png": "[encoded data removed]",
      "text/plain": [
       "<IPython.core.display.Image object>"
      ]
     },
     "metadata": {},
     "output_type": "display_data"
    }
   ],
   "execution_count": 11
  },
  {
   "metadata": {
    "ExecuteTime": {
     "end_time": "2025-08-21T08:44:08.621087Z",
     "start_time": "2025-08-21T08:44:05.648216Z"
    }
   },
   "cell_type": "code",
   "source": [
    "\n",
    "msg = \"I want to buy 20 AMZN stocks using current price. Then 15 MSFT. What will be the total cost?\"\n",
    "\n",
    "state = graph.invoke({\"messages\": [{\"role\": \"user\", \"content\": msg}]})\n",
    "print(state[\"messages\"][-1].content)"
   ],
   "id": "d1fc5e6f873c702e",
   "outputs": [
    {
     "name": "stdout",
     "output_type": "stream",
     "text": [
      "The current price for AMZN is $150 and for MSFT is $200.3.\n",
      "The total cost for 20 AMZN stocks is 20 * $150 = $3000.\n",
      "The total cost for 15 MSFT stocks is 15 * $200.3 = $3004.5.\n",
      "Therefore, the total cost for both is $3000 + $3004.5 = $6004.5.\n"
     ]
    }
   ],
   "execution_count": 12
  },
  {
   "metadata": {},
   "cell_type": "markdown",
   "source": "ADDING MEMORY",
   "id": "9313dc8f544ddc07"
  },
  {
   "metadata": {
    "ExecuteTime": {
     "end_time": "2025-08-21T08:45:53.605126Z",
     "start_time": "2025-08-21T08:45:53.573813Z"
    }
   },
   "cell_type": "code",
   "source": [
    "from langgraph.checkpoint.memory import MemorySaver\n",
    "\n",
    "memory = MemorySaver()"
   ],
   "id": "544846a8d8b13139",
   "outputs": [],
   "execution_count": 14
  },
  {
   "metadata": {
    "ExecuteTime": {
     "end_time": "2025-08-21T08:45:56.590570Z",
     "start_time": "2025-08-21T08:45:56.067078Z"
    }
   },
   "cell_type": "code",
   "source": [
    "def chatbot(state: State):\n",
    "    return {\"messages\": [llm_with_tools.invoke(state[\"messages\"])]}\n",
    "\n",
    "builder = StateGraph(State)\n",
    "\n",
    "builder.add_node(chatbot)\n",
    "builder.add_node(\"tools\", ToolNode(tools))\n",
    "\n",
    "builder.add_edge(START, \"chatbot\")\n",
    "builder.add_conditional_edges(\"chatbot\", tools_condition)\n",
    "builder.add_edge(\"tools\", \"chatbot\")\n",
    "graph = builder.compile(checkpointer=memory)\n",
    "\n",
    "from IPython.display import Image, display\n",
    "\n",
    "display(Image(graph.get_graph().draw_mermaid_png()))\n"
   ],
   "id": "cafbd381845c6460",
   "outputs": [
    {
     "data": {
      "image/png": "[encoded data removed]",
      "text/plain": [
       "<IPython.core.display.Image object>"
      ]
     },
     "metadata": {},
     "output_type": "display_data"
    }
   ],
   "execution_count": 15
  },
  {
   "metadata": {
    "ExecuteTime": {
     "end_time": "2025-08-21T08:46:13.315175Z",
     "start_time": "2025-08-21T08:46:10.821624Z"
    }
   },
   "cell_type": "code",
   "source": [
    "config1 = { 'configurable': { 'thread_id': '1'} }\n",
    "\n",
    "msg = \"I want to buy 20 AMZN stocks using current price. Then 15 MSFT. What will be the total cost?\"\n",
    "\n",
    "state = graph.invoke({\"messages\": [{\"role\": \"user\", \"content\": msg}]}, config=config1)\n",
    "print(state[\"messages\"][-1].content)"
   ],
   "id": "e29e2ef22f0bc6f0",
   "outputs": [
    {
     "name": "stdout",
     "output_type": "stream",
     "text": [
      "The current price for AMZN is $150 and for MSFT is $200.3.\n",
      "The total cost for 20 AMZN stocks is 20 * $150 = $3000.\n",
      "The total cost for 15 MSFT stocks is 15 * $200.3 = $3004.5.\n",
      "Therefore, the total cost for both is $3000 + $3004.5 = $6004.5.\n"
     ]
    }
   ],
   "execution_count": 16
  },
  {
   "metadata": {
    "ExecuteTime": {
     "end_time": "2025-08-21T08:46:26.983637Z",
     "start_time": "2025-08-21T08:46:24.932443Z"
    }
   },
   "cell_type": "code",
   "source": [
    "config2 = { 'configurable': { 'thread_id': '2'} }\n",
    "\n",
    "msg = \"Tell me the current price of 5 AAPL stocks.\"\n",
    "\n",
    "state = graph.invoke({\"messages\": [{\"role\": \"user\", \"content\": msg}]}, config=config2)\n",
    "print(state[\"messages\"][-1].content)\n"
   ],
   "id": "30a7bff235b828d0",
   "outputs": [
    {
     "name": "stdout",
     "output_type": "stream",
     "text": [
      "The current price of one AAPL stock is $100.4. Therefore, the current price of 5 AAPL stocks is $502.\n"
     ]
    }
   ],
   "execution_count": 17
  },
  {
   "metadata": {
    "ExecuteTime": {
     "end_time": "2025-08-21T10:59:14.419873Z",
     "start_time": "2025-08-21T10:59:11.371128Z"
    }
   },
   "cell_type": "code",
   "source": [
    "msg = \"Using the current price tell me the total price of 10 RIL stocks and add it to previous total cost\"\n",
    "\n",
    "state = graph.invoke({\"messages\": [{\"role\": \"user\", \"content\": msg}]}, config=config1)\n",
    "print(state[\"messages\"][-1].content)"
   ],
   "id": "93734ef05b557ddd",
   "outputs": [
    {
     "name": "stdout",
     "output_type": "stream",
     "text": [
      "The current price of RIL is $87.6. The total cost of 10 RIL stocks is 10 * $87.6 = $876. Adding this to the previous total cost of $6004.5, the new total is $6004.5 + $876 = $6880.5.\n"
     ]
    }
   ],
   "execution_count": 21
  },
  {
   "metadata": {
    "ExecuteTime": {
     "end_time": "2025-08-21T11:16:47.366259Z",
     "start_time": "2025-08-21T11:16:42.867451Z"
    }
   },
   "cell_type": "code",
   "source": [
    "state = graph.invoke(\n",
    "    {\"messages\": [(\"user\", \"I want to buy 20 AMZN stocks using current price. Then 15 MSFT. What will be the total cost?\")]},\n",
    "    config={\"configurable\": {\"thread_id\": \"my-session-1\"}}\n",
    ")\n",
    "print(state[\"messages\"][-1].content)\n"
   ],
   "id": "c9fbbeef282325dc",
   "outputs": [
    {
     "name": "stdout",
     "output_type": "stream",
     "text": [
      "The current price for AMZN is $150 and for MSFT is $200.3.\n",
      "The total cost for 20 AMZN stocks is 20 * $150 = $3000.\n",
      "The total cost for 15 MSFT stocks is 15 * $200.3 = $3004.5.\n",
      "Therefore, the total cost for both is $3000 + $3004.5 = $6004.5.\n"
     ]
    }
   ],
   "execution_count": 27
  }
 ],
 "metadata": {
  "kernelspec": {
   "display_name": "Python 3",
   "language": "python",
   "name": "python3"
  },
  "language_info": {
   "codemirror_mode": {
    "name": "ipython",
    "version": 2
   },
   "file_extension": ".py",
   "mimetype": "text/x-python",
   "name": "python",
   "nbconvert_exporter": "python",
   "pygments_lexer": "ipython2",
   "version": "2.7.6"
  }
 },
 "nbformat": 4,
 "nbformat_minor": 5
}
